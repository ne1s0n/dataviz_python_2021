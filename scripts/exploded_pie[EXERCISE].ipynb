{
 "cells": [
  {
   "cell_type": "markdown",
   "metadata": {},
   "source": [
    "# Exploded Pie\n",
    "\n",
    "In this example we'll create a pie plot with one of the slices exploded, showing its subcategories on the side."
   ]
  },
  {
   "cell_type": "markdown",
   "metadata": {},
   "source": [
    "## Data loading\n",
    "\n",
    "We'll use the NASA meteorite dataset. To do so we'll need first to run the data manager using the %run magic code."
   ]
  },
  {
   "cell_type": "code",
   "execution_count": null,
   "metadata": {},
   "outputs": [],
   "source": [
    "%run data_manager.py"
   ]
  },
  {
   "cell_type": "markdown",
   "metadata": {},
   "source": [
    "At this poing we can load the data directly into a pandas dataframe"
   ]
  },
  {
   "cell_type": "code",
   "execution_count": null,
   "metadata": {},
   "outputs": [],
   "source": [
    "df = load_meteorites()\n",
    "df.head()"
   ]
  },
  {
   "cell_type": "markdown",
   "metadata": {},
   "source": [
    "## Selecting the plotted data\n",
    "Three columns are good candidates for a pie chart:"
   ]
  },
  {
   "cell_type": "code",
   "execution_count": null,
   "metadata": {},
   "outputs": [],
   "source": [
    "print(df.nametype.unique())\n",
    "print(df.fall.unique())\n",
    "print(df.recclass.unique())"
   ]
  },
  {
   "cell_type": "markdown",
   "metadata": {},
   "source": [
    "Given that we'd like to keep things simple, we are going to use `nametype` and `fall`. Let's extract the data."
   ]
  },
  {
   "cell_type": "code",
   "execution_count": null,
   "metadata": {},
   "outputs": [],
   "source": [
    "#counting nametypes\n",
    "nametypes_counts = df.nametype.value_counts(normalize = True)\n",
    "print(nametypes_counts)"
   ]
  },
  {
   "cell_type": "code",
   "execution_count": null,
   "metadata": {},
   "outputs": [],
   "source": [
    "#counting fall status for \"valid\" asteroids\n",
    "fall_counts_valid = df[df['nametype'] == 'Valid'].fall.value_counts(normalize = True)\n",
    "print(fall_counts_valid)"
   ]
  },
  {
   "cell_type": "markdown",
   "metadata": {},
   "source": [
    "## First implementation, by hand\n",
    "\n",
    "A first implementation, step by step"
   ]
  },
  {
   "cell_type": "code",
   "execution_count": null,
   "metadata": {},
   "outputs": [],
   "source": [
    "#standard imports\n",
    "import matplotlib.pyplot as plt\n",
    "import numpy as np\n",
    "\n",
    "#setting off interactive mode, so that we can split the code among\n",
    "#several cells, see:\n",
    "#https://matplotlib.org/stable/api/_as_gen/matplotlib.pyplot.ioff.html\n",
    "plt.ioff()\n",
    "\n",
    "# make figure and assign axis objects\n",
    "fig, (ax1, ax2) = plt.subplots(1, 2, figsize=(9, 5))\n",
    "fig.subplots_adjust(wspace=0)"
   ]
  },
  {
   "cell_type": "markdown",
   "metadata": {},
   "source": [
    "### Adding a pie chart"
   ]
  },
  {
   "cell_type": "code",
   "execution_count": null,
   "metadata": {},
   "outputs": [],
   "source": [
    "#this magic suppresses output, without it the return value of\n",
    "#the last command is printed. Unfortunately, maybe your jupyter\n",
    "#does not support it. Give it a try!\n",
    "#%%capture\n",
    "\n",
    "# pie chart parameters\n",
    "my_ratios = nametypes_counts\n",
    "my_labels = nametypes_counts.index\n",
    "my_explode = [0.3, 0]\n",
    "\n",
    "# rotate so that first wedge is split by the x-axis\n",
    "angle = -180 * ratios[0]\n",
    "\n",
    "#standard pie plot\n",
    "ax1.pie(my_ratios, autopct='%1.1f%%', startangle=angle, labels=my_labels, explode=my_explode)"
   ]
  },
  {
   "cell_type": "markdown",
   "metadata": {},
   "source": [
    "### Adding a bar chart"
   ]
  },
  {
   "cell_type": "code",
   "execution_count": null,
   "metadata": {},
   "outputs": [],
   "source": [
    "# bar chart parameters\n",
    "xpos = 0\n",
    "bottom = 0\n",
    "ratios = fall_counts_valid\n",
    "width = .2\n",
    "\n",
    "#looping through all the available data points\n",
    "for j in range(len(ratios)):\n",
    "    height = ratios[j]\n",
    "    ax2.bar(xpos, height, width, bottom=bottom)\n",
    "    ypos = bottom + ax2.patches[j].get_height() / 2\n",
    "    bottom += height\n",
    "    ax2.text(xpos, ypos, \"%d%%\" % (ax2.patches[j].get_height() * 100), ha='center')\n",
    "\n",
    "#final aestethics brush upss\n",
    "ax2.set_title('Valid entries')\n",
    "ax2.legend(fall_counts_valid.index)\n",
    "ax2.axis('off')\n",
    "ax2.set_xlim(- 2.5 * width, 2.5 * width)"
   ]
  },
  {
   "cell_type": "markdown",
   "metadata": {},
   "source": [
    "### Adding connecting lines\n",
    "\n",
    "We are going to use [ConnectionPatch](https://matplotlib.org/stable/api/_as_gen/matplotlib.patches.ConnectionPatch.html) object to draw lines connecting\n",
    "the pie to the bar plot.\n",
    "\n",
    "Keep in mind that a pie slice is completely defined by four parameters:\n",
    "\n",
    "* center\n",
    "* radius (r)\n",
    "* angle of the first side (theta1)\n",
    "* angle of the second side (theta2)\n",
    "\n",
    "We are going to first extract these numbers, then do some trigonometry to convert\n",
    "those to coordinates:\n",
    "\n",
    "* (x_start, y_start)\n",
    "* (x_end, y_end)\n",
    "\n",
    "for the two connectors."
   ]
  },
  {
   "cell_type": "code",
   "execution_count": null,
   "metadata": {},
   "outputs": [],
   "source": [
    "from matplotlib.patches import ConnectionPatch\n",
    "\n",
    "#extracting the pie slice parameters\n",
    "center = ax1.patches[0].center #this is actually two values\n",
    "r      = ax1.patches[0].r\n",
    "theta1 = ax1.patches[0].theta1\n",
    "theta2 = ax1.patches[0].theta2\n",
    "\n",
    "#the bar is easier: it's just defined by its height\n",
    "bar_height = sum([item.get_height() for item in ax2.patches])\n",
    "\n",
    "# top connecting line, coordinates\n",
    "x_start = r * np.cos(np.pi / 180 * theta2) + center[0]\n",
    "y_start = r * np.sin(np.pi / 180 * theta2) + center[1]\n",
    "x_end = -width / 2\n",
    "y_end = bar_height\n",
    "\n",
    "# top connecting line, drawing\n",
    "con = ConnectionPatch(xyA=(x_start, y_start), coordsA=ax1.transData,\n",
    "                      xyB=(x_end, y_end)    , coordsB=ax2.transData)\n",
    "con.set_color([0, 0, 0])\n",
    "con.set_linewidth(2)\n",
    "ax2.add_artist(con)\n",
    "\n",
    "# bottom connecting line, coordinates\n",
    "x_start = r * np.cos(np.pi / 180 * theta1) + center[0]\n",
    "y_start = r * np.sin(np.pi / 180 * theta1) + center[1]\n",
    "x_end = -width / 2\n",
    "y_end = 0\n",
    "\n",
    "# top connecting line, drawing\n",
    "con = ConnectionPatch(xyA=(x_start, y_start), coordsA=ax1.transData,\n",
    "                      xyB=(x_end, y_end)    , coordsB=ax2.transData)\n",
    "con.set_color([0, 0, 0])\n",
    "con.set_linewidth(2)\n",
    "ax2.add_artist(con)"
   ]
  },
  {
   "cell_type": "markdown",
   "metadata": {},
   "source": [
    "### Plotting the result\n",
    "\n",
    "Let's turn the interactive mode back on and plot the result."
   ]
  },
  {
   "cell_type": "code",
   "execution_count": null,
   "metadata": {},
   "outputs": [],
   "source": [
    "plt.ion()\n",
    "plt.show()"
   ]
  },
  {
   "cell_type": "markdown",
   "metadata": {},
   "source": [
    "# Assignments\n",
    "\n",
    "The plot works, but with a very thin slice its power is somewhat limited. Also, it would be nice to have reusable solution.\n",
    "\n",
    "* ASSIGNMENT 1: write a function that accepts the two counts arguments and does the plot\n",
    "* ASSIGNMENT 2: add a third argument to save on file (in folder \"../results\") instead of displaying the plot\n",
    "* ASSIGNMENT 3: create a new column in the data that assigns meteorites to four categories based on their weight, and use it in the plot"
   ]
  },
  {
   "cell_type": "code",
   "execution_count": null,
   "metadata": {},
   "outputs": [],
   "source": []
  }
 ],
 "metadata": {
  "kernelspec": {
   "display_name": "Python 3",
   "language": "python",
   "name": "python3"
  },
  "language_info": {
   "codemirror_mode": {
    "name": "ipython",
    "version": 3
   },
   "file_extension": ".py",
   "mimetype": "text/x-python",
   "name": "python",
   "nbconvert_exporter": "python",
   "pygments_lexer": "ipython3",
   "version": "3.8.10"
  }
 },
 "nbformat": 4,
 "nbformat_minor": 4
}
